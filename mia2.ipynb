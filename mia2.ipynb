{
 "cells": [
  {
   "cell_type": "code",
   "execution_count": 1,
   "metadata": {},
   "outputs": [
    {
     "name": "stderr",
     "output_type": "stream",
     "text": [
      "2022-05-07 19:03:02.376245: W tensorflow/stream_executor/platform/default/dso_loader.cc:55] Could not load dynamic library 'libnvinfer.so.6'; dlerror: libnvinfer.so.6: cannot open shared object file: No such file or directory; LD_LIBRARY_PATH: /usr/local/cuda-10.2/lib64/usr/local/cuda-10.2/lib64:/usr/local/cuda/lib64:/usr/local/cuda/extras/CUPTI/lib64\n",
      "2022-05-07 19:03:02.376331: W tensorflow/stream_executor/platform/default/dso_loader.cc:55] Could not load dynamic library 'libnvinfer_plugin.so.6'; dlerror: libnvinfer_plugin.so.6: cannot open shared object file: No such file or directory; LD_LIBRARY_PATH: /usr/local/cuda-10.2/lib64/usr/local/cuda-10.2/lib64:/usr/local/cuda/lib64:/usr/local/cuda/extras/CUPTI/lib64\n",
      "2022-05-07 19:03:02.376340: W tensorflow/compiler/tf2tensorrt/utils/py_utils.cc:30] Cannot dlopen some TensorRT libraries. If you would like to use Nvidia GPU with TensorRT, please make sure the missing libraries mentioned above are installed properly.\n"
     ]
    }
   ],
   "source": [
    "import numpy as np\n",
    "import tensorflow as tf\n",
    "from tensorflow.keras.layers import GlobalAveragePooling2D, Dense, Activation, Conv2D, MaxPooling2D, Flatten\n",
    "from tensorflow.keras.applications import ResNet50V2, ResNet101V2, DenseNet121, VGG16, VGG19\n",
    "import os\n",
    "os.environ[\"CUDA_VISIBLE_DEVICES\"]='1, 2, 3'"
   ]
  },
  {
   "cell_type": "code",
   "execution_count": 2,
   "metadata": {},
   "outputs": [],
   "source": [
    "def load_CIFAR10(num_class):\n",
    "    \"\"\"\n",
    "    Load CIFAR10 dataset and data preprocessing.\n",
    "    :param data_dir: Path where to find the data file.\n",
    "    :return: Tuple of numpy arrays: (x_train, y_train), (x_test, y_test).\n",
    "    \"\"\"\n",
    "    # Initialize Data\n",
    "    (x_train, y_train), (x_test, y_test) = tf.keras.datasets.cifar10.load_data()\n",
    "\n",
    "    x_train = x_train / 255.0\n",
    "    x_test = x_test / 255.0\n",
    "    \n",
    "    y_train = tf.keras.utils.to_categorical(y_train, num_class)\n",
    "    y_test = tf.keras.utils.to_categorical(y_test, num_class)\n",
    "    \n",
    "    return (x_train, y_train), (x_test, y_test)\n",
    "\n",
    "(x, y), (x_test, y_test) = load_CIFAR10(10)"
   ]
  },
  {
   "cell_type": "code",
   "execution_count": 3,
   "metadata": {},
   "outputs": [
    {
     "data": {
      "text/plain": [
       "(50000, 32, 32, 3)"
      ]
     },
     "execution_count": 3,
     "metadata": {},
     "output_type": "execute_result"
    }
   ],
   "source": [
    "x.shape"
   ]
  },
  {
   "cell_type": "code",
   "execution_count": 4,
   "metadata": {},
   "outputs": [
    {
     "name": "stderr",
     "output_type": "stream",
     "text": [
      "2022-05-07 19:03:05.136046: I tensorflow/stream_executor/platform/default/dso_loader.cc:44] Successfully opened dynamic library libcuda.so.1\n",
      "2022-05-07 19:03:05.156652: I tensorflow/core/common_runtime/gpu/gpu_device.cc:1555] Found device 0 with properties: \n",
      "pciBusID: 0000:41:00.0 name: Tesla V100S-PCIE-32GB computeCapability: 7.0\n",
      "coreClock: 1.597GHz coreCount: 80 deviceMemorySize: 31.75GiB deviceMemoryBandwidth: 1.03TiB/s\n",
      "2022-05-07 19:03:05.157862: I tensorflow/core/common_runtime/gpu/gpu_device.cc:1555] Found device 1 with properties: \n",
      "pciBusID: 0000:45:00.0 name: Tesla V100S-PCIE-32GB computeCapability: 7.0\n",
      "coreClock: 1.597GHz coreCount: 80 deviceMemorySize: 31.75GiB deviceMemoryBandwidth: 1.03TiB/s\n",
      "2022-05-07 19:03:05.159036: I tensorflow/core/common_runtime/gpu/gpu_device.cc:1555] Found device 2 with properties: \n",
      "pciBusID: 0000:47:00.0 name: Tesla V100S-PCIE-32GB computeCapability: 7.0\n",
      "coreClock: 1.597GHz coreCount: 80 deviceMemorySize: 31.75GiB deviceMemoryBandwidth: 1.03TiB/s\n",
      "2022-05-07 19:03:05.159231: I tensorflow/stream_executor/platform/default/dso_loader.cc:44] Successfully opened dynamic library libcudart.so.10.1\n",
      "2022-05-07 19:03:05.161163: I tensorflow/stream_executor/platform/default/dso_loader.cc:44] Successfully opened dynamic library libcublas.so.10\n",
      "2022-05-07 19:03:05.163224: I tensorflow/stream_executor/platform/default/dso_loader.cc:44] Successfully opened dynamic library libcufft.so.10\n",
      "2022-05-07 19:03:05.163511: I tensorflow/stream_executor/platform/default/dso_loader.cc:44] Successfully opened dynamic library libcurand.so.10\n",
      "2022-05-07 19:03:05.165707: I tensorflow/stream_executor/platform/default/dso_loader.cc:44] Successfully opened dynamic library libcusolver.so.10\n",
      "2022-05-07 19:03:05.166771: I tensorflow/stream_executor/platform/default/dso_loader.cc:44] Successfully opened dynamic library libcusparse.so.10\n",
      "2022-05-07 19:03:05.171258: I tensorflow/stream_executor/platform/default/dso_loader.cc:44] Successfully opened dynamic library libcudnn.so.7\n",
      "2022-05-07 19:03:05.178194: I tensorflow/core/common_runtime/gpu/gpu_device.cc:1697] Adding visible gpu devices: 0, 1, 2\n",
      "2022-05-07 19:03:05.178512: I tensorflow/core/platform/cpu_feature_guard.cc:142] Your CPU supports instructions that this TensorFlow binary was not compiled to use: AVX2 AVX512F FMA\n",
      "2022-05-07 19:03:05.190818: I tensorflow/core/platform/profile_utils/cpu_utils.cc:94] CPU Frequency: 2400000000 Hz\n",
      "2022-05-07 19:03:05.195506: I tensorflow/compiler/xla/service/service.cc:168] XLA service 0x5576a573c340 initialized for platform Host (this does not guarantee that XLA will be used). Devices:\n",
      "2022-05-07 19:03:05.195525: I tensorflow/compiler/xla/service/service.cc:176]   StreamExecutor device (0): Host, Default Version\n",
      "2022-05-07 19:03:05.656014: I tensorflow/compiler/xla/service/service.cc:168] XLA service 0x5576a57af520 initialized for platform CUDA (this does not guarantee that XLA will be used). Devices:\n",
      "2022-05-07 19:03:05.656067: I tensorflow/compiler/xla/service/service.cc:176]   StreamExecutor device (0): Tesla V100S-PCIE-32GB, Compute Capability 7.0\n",
      "2022-05-07 19:03:05.656084: I tensorflow/compiler/xla/service/service.cc:176]   StreamExecutor device (1): Tesla V100S-PCIE-32GB, Compute Capability 7.0\n",
      "2022-05-07 19:03:05.656098: I tensorflow/compiler/xla/service/service.cc:176]   StreamExecutor device (2): Tesla V100S-PCIE-32GB, Compute Capability 7.0\n",
      "2022-05-07 19:03:05.660417: I tensorflow/core/common_runtime/gpu/gpu_device.cc:1555] Found device 0 with properties: \n",
      "pciBusID: 0000:41:00.0 name: Tesla V100S-PCIE-32GB computeCapability: 7.0\n",
      "coreClock: 1.597GHz coreCount: 80 deviceMemorySize: 31.75GiB deviceMemoryBandwidth: 1.03TiB/s\n",
      "2022-05-07 19:03:05.663495: I tensorflow/core/common_runtime/gpu/gpu_device.cc:1555] Found device 1 with properties: \n",
      "pciBusID: 0000:45:00.0 name: Tesla V100S-PCIE-32GB computeCapability: 7.0\n",
      "coreClock: 1.597GHz coreCount: 80 deviceMemorySize: 31.75GiB deviceMemoryBandwidth: 1.03TiB/s\n",
      "2022-05-07 19:03:05.666516: I tensorflow/core/common_runtime/gpu/gpu_device.cc:1555] Found device 2 with properties: \n",
      "pciBusID: 0000:47:00.0 name: Tesla V100S-PCIE-32GB computeCapability: 7.0\n",
      "coreClock: 1.597GHz coreCount: 80 deviceMemorySize: 31.75GiB deviceMemoryBandwidth: 1.03TiB/s\n",
      "2022-05-07 19:03:05.666594: I tensorflow/stream_executor/platform/default/dso_loader.cc:44] Successfully opened dynamic library libcudart.so.10.1\n",
      "2022-05-07 19:03:05.666627: I tensorflow/stream_executor/platform/default/dso_loader.cc:44] Successfully opened dynamic library libcublas.so.10\n",
      "2022-05-07 19:03:05.666656: I tensorflow/stream_executor/platform/default/dso_loader.cc:44] Successfully opened dynamic library libcufft.so.10\n",
      "2022-05-07 19:03:05.666684: I tensorflow/stream_executor/platform/default/dso_loader.cc:44] Successfully opened dynamic library libcurand.so.10\n",
      "2022-05-07 19:03:05.666712: I tensorflow/stream_executor/platform/default/dso_loader.cc:44] Successfully opened dynamic library libcusolver.so.10\n",
      "2022-05-07 19:03:05.666741: I tensorflow/stream_executor/platform/default/dso_loader.cc:44] Successfully opened dynamic library libcusparse.so.10\n",
      "2022-05-07 19:03:05.666770: I tensorflow/stream_executor/platform/default/dso_loader.cc:44] Successfully opened dynamic library libcudnn.so.7\n",
      "2022-05-07 19:03:05.680824: I tensorflow/core/common_runtime/gpu/gpu_device.cc:1697] Adding visible gpu devices: 0, 1, 2\n",
      "2022-05-07 19:03:05.680880: I tensorflow/stream_executor/platform/default/dso_loader.cc:44] Successfully opened dynamic library libcudart.so.10.1\n",
      "2022-05-07 19:03:05.686645: I tensorflow/core/common_runtime/gpu/gpu_device.cc:1096] Device interconnect StreamExecutor with strength 1 edge matrix:\n",
      "2022-05-07 19:03:05.686663: I tensorflow/core/common_runtime/gpu/gpu_device.cc:1102]      0 1 2 \n",
      "2022-05-07 19:03:05.686674: I tensorflow/core/common_runtime/gpu/gpu_device.cc:1115] 0:   N Y Y \n",
      "2022-05-07 19:03:05.686680: I tensorflow/core/common_runtime/gpu/gpu_device.cc:1115] 1:   Y N Y \n",
      "2022-05-07 19:03:05.686686: I tensorflow/core/common_runtime/gpu/gpu_device.cc:1115] 2:   Y Y N \n",
      "2022-05-07 19:03:05.696068: I tensorflow/core/common_runtime/gpu/gpu_device.cc:1241] Created TensorFlow device (/job:localhost/replica:0/task:0/device:GPU:0 with 30303 MB memory) -> physical GPU (device: 0, name: Tesla V100S-PCIE-32GB, pci bus id: 0000:41:00.0, compute capability: 7.0)\n",
      "2022-05-07 19:03:05.699881: I tensorflow/core/common_runtime/gpu/gpu_device.cc:1241] Created TensorFlow device (/job:localhost/replica:0/task:0/device:GPU:1 with 30303 MB memory) -> physical GPU (device: 1, name: Tesla V100S-PCIE-32GB, pci bus id: 0000:45:00.0, compute capability: 7.0)\n",
      "2022-05-07 19:03:05.703229: I tensorflow/core/common_runtime/gpu/gpu_device.cc:1241] Created TensorFlow device (/job:localhost/replica:0/task:0/device:GPU:2 with 30303 MB memory) -> physical GPU (device: 2, name: Tesla V100S-PCIE-32GB, pci bus id: 0000:47:00.0, compute capability: 7.0)\n"
     ]
    },
    {
     "name": "stdout",
     "output_type": "stream",
     "text": [
      "Model: \"sequential\"\n",
      "_________________________________________________________________\n",
      "Layer (type)                 Output Shape              Param #   \n",
      "=================================================================\n",
      "resnet50v2 (Model)           (None, 1, 1, 2048)        23564800  \n",
      "_________________________________________________________________\n",
      "global_average_pooling2d (Gl (None, 2048)              0         \n",
      "_________________________________________________________________\n",
      "dense (Dense)                (None, 10)                20490     \n",
      "_________________________________________________________________\n",
      "activation (Activation)      (None, 10)                0         \n",
      "=================================================================\n",
      "Total params: 23,585,290\n",
      "Trainable params: 23,539,850\n",
      "Non-trainable params: 45,440\n",
      "_________________________________________________________________\n"
     ]
    }
   ],
   "source": [
    "def get_Resnet50(input_shape, num_classes):\n",
    "    \"\"\"Define and return the ResNet50V2 model.\n",
    "    Args:\n",
    "        input_shape: a tensor defined the data shape.\n",
    "        num_classes: the number of classes.\n",
    "    Returns: \n",
    "        a keras model object named ResNet50V2.\n",
    "    \"\"\"\n",
    "    model = tf.keras.Sequential([\n",
    "        ResNet50V2(include_top=False,\n",
    "                   weights='imagenet',\n",
    "                   input_shape=input_shape),\n",
    "        GlobalAveragePooling2D(),\n",
    "        Dense(num_classes),\n",
    "        Activation('softmax')\n",
    "    ])\n",
    "    model.summary()\n",
    "    \n",
    "    return model\n",
    "\n",
    "model = get_Resnet50(x[0].shape, num_classes=10)"
   ]
  },
  {
   "cell_type": "code",
   "execution_count": 5,
   "metadata": {},
   "outputs": [
    {
     "name": "stdout",
     "output_type": "stream",
     "text": [
      "Model: \"sequential_1\"\n",
      "_________________________________________________________________\n",
      "Layer (type)                 Output Shape              Param #   \n",
      "=================================================================\n",
      "resnet50v2 (Model)           (None, 1, 1, 2048)        23564800  \n",
      "_________________________________________________________________\n",
      "global_average_pooling2d_1 ( (None, 2048)              0         \n",
      "_________________________________________________________________\n",
      "dense_1 (Dense)              (None, 10)                20490     \n",
      "_________________________________________________________________\n",
      "activation_1 (Activation)    (None, 10)                0         \n",
      "=================================================================\n",
      "Total params: 23,585,290\n",
      "Trainable params: 23,539,850\n",
      "Non-trainable params: 45,440\n",
      "_________________________________________________________________\n"
     ]
    }
   ],
   "source": [
    "def get_Shadow50(input_shape, num_classes):\n",
    "    \"\"\"Define and return the ResNet50V2 model.\n",
    "    Args:\n",
    "        input_shape: a tensor defined the data shape.\n",
    "        num_classes: the number of classes.\n",
    "    Returns: \n",
    "        a keras model object named ResNet50V2.\n",
    "    \"\"\"\n",
    "    model = tf.keras.Sequential([\n",
    "        ResNet50V2(include_top=False,\n",
    "                   weights='imagenet',\n",
    "                   input_shape=input_shape),\n",
    "        GlobalAveragePooling2D(),\n",
    "        Dense(num_classes),\n",
    "        Activation('softmax')\n",
    "    ])\n",
    "    model.summary()\n",
    "    \n",
    "    return model\n",
    "\n",
    "shadow = get_Shadow50(x[0].shape, num_classes=10)"
   ]
  },
  {
   "cell_type": "code",
   "execution_count": 6,
   "metadata": {},
   "outputs": [],
   "source": [
    "def entropy(c):\n",
    "    if(len(c) > 0):\n",
    "        result = 0\n",
    "    for i in range(len(c[0])):\n",
    "        result += (-c[0, i]) * np.log2(c[0, i])\n",
    "    return result\n",
    "   "
   ]
  },
  {
   "cell_type": "code",
   "execution_count": 7,
   "metadata": {},
   "outputs": [
    {
     "name": "stdout",
     "output_type": "stream",
     "text": [
      "Train on 5000 samples\n",
      "Epoch 1/10\n"
     ]
    },
    {
     "name": "stderr",
     "output_type": "stream",
     "text": [
      "2022-05-07 19:03:21.602356: I tensorflow/stream_executor/platform/default/dso_loader.cc:44] Successfully opened dynamic library libcublas.so.10\n",
      "2022-05-07 19:03:21.944507: I tensorflow/stream_executor/platform/default/dso_loader.cc:44] Successfully opened dynamic library libcudnn.so.7\n",
      "2022-05-07 19:03:23.157358: W tensorflow/stream_executor/gpu/redzone_allocator.cc:312] Not found: ./bin/ptxas not found\n",
      "Relying on driver to perform ptx compilation. This message will be only logged once.\n"
     ]
    },
    {
     "name": "stdout",
     "output_type": "stream",
     "text": [
      "5000/5000 [==============================] - 14s 3ms/sample - loss: 2.3991 - accuracy: 0.1518\n",
      "Epoch 2/10\n",
      "5000/5000 [==============================] - 4s 721us/sample - loss: 2.0456 - accuracy: 0.2828\n",
      "Epoch 3/10\n",
      "5000/5000 [==============================] - 3s 676us/sample - loss: 1.7326 - accuracy: 0.4312\n",
      "Epoch 4/10\n",
      "5000/5000 [==============================] - 4s 714us/sample - loss: 1.4025 - accuracy: 0.5300\n",
      "Epoch 5/10\n",
      "5000/5000 [==============================] - 4s 748us/sample - loss: 1.1202 - accuracy: 0.6256\n",
      "Epoch 6/10\n",
      "5000/5000 [==============================] - 4s 772us/sample - loss: 0.8911 - accuracy: 0.7040\n",
      "Epoch 7/10\n",
      "5000/5000 [==============================] - 4s 759us/sample - loss: 0.6629 - accuracy: 0.7926\n",
      "Epoch 8/10\n",
      "5000/5000 [==============================] - 4s 725us/sample - loss: 0.4868 - accuracy: 0.8502\n",
      "Epoch 9/10\n",
      "5000/5000 [==============================] - 4s 711us/sample - loss: 0.3711 - accuracy: 0.8892\n",
      "Epoch 10/10\n",
      "5000/5000 [==============================] - 4s 733us/sample - loss: 0.2742 - accuracy: 0.9202\n",
      "Train on 5000 samples\n",
      "Epoch 1/10\n",
      "5000/5000 [==============================] - 12s 2ms/sample - loss: 0.2516 - accuracy: 0.9256\n",
      "Epoch 2/10\n",
      "5000/5000 [==============================] - 4s 732us/sample - loss: 0.1566 - accuracy: 0.9546\n",
      "Epoch 3/10\n",
      "5000/5000 [==============================] - 4s 751us/sample - loss: 0.1164 - accuracy: 0.9698\n",
      "Epoch 4/10\n",
      "5000/5000 [==============================] - 4s 758us/sample - loss: 0.0988 - accuracy: 0.9700\n",
      "Epoch 5/10\n",
      "5000/5000 [==============================] - 4s 709us/sample - loss: 0.0981 - accuracy: 0.9716\n",
      "Epoch 6/10\n",
      "5000/5000 [==============================] - 4s 717us/sample - loss: 0.0760 - accuracy: 0.9772\n",
      "Epoch 7/10\n",
      "5000/5000 [==============================] - 4s 772us/sample - loss: 0.0826 - accuracy: 0.9776\n",
      "Epoch 8/10\n",
      "5000/5000 [==============================] - 4s 712us/sample - loss: 0.0770 - accuracy: 0.9780\n",
      "Epoch 9/10\n",
      "5000/5000 [==============================] - 4s 705us/sample - loss: 0.0571 - accuracy: 0.9840\n",
      "Epoch 10/10\n",
      "5000/5000 [==============================] - 3s 666us/sample - loss: 0.0601 - accuracy: 0.9830\n",
      "Train on 5000 samples\n",
      "Epoch 1/10\n",
      "5000/5000 [==============================] - 11s 2ms/sample - loss: 0.0907 - accuracy: 0.9738\n",
      "Epoch 2/10\n",
      "5000/5000 [==============================] - 4s 763us/sample - loss: 0.0689 - accuracy: 0.9790\n",
      "Epoch 3/10\n",
      "5000/5000 [==============================] - 4s 722us/sample - loss: 0.0526 - accuracy: 0.9838\n",
      "Epoch 4/10\n",
      "5000/5000 [==============================] - 4s 715us/sample - loss: 0.0475 - accuracy: 0.9866\n",
      "Epoch 5/10\n",
      "5000/5000 [==============================] - 3s 691us/sample - loss: 0.0385 - accuracy: 0.9890\n",
      "Epoch 6/10\n",
      "5000/5000 [==============================] - 4s 819us/sample - loss: 0.0335 - accuracy: 0.9888\n",
      "Epoch 7/10\n",
      "5000/5000 [==============================] - 3s 677us/sample - loss: 0.0434 - accuracy: 0.9868\n",
      "Epoch 8/10\n",
      "5000/5000 [==============================] - 3s 668us/sample - loss: 0.0424 - accuracy: 0.9884\n",
      "Epoch 9/10\n",
      "5000/5000 [==============================] - 4s 709us/sample - loss: 0.0383 - accuracy: 0.9870\n",
      "Epoch 10/10\n",
      "5000/5000 [==============================] - 3s 688us/sample - loss: 0.0254 - accuracy: 0.9930\n"
     ]
    },
    {
     "name": "stderr",
     "output_type": "stream",
     "text": [
      "/kolla/GPU2/anaconda3/envs/blindmi/lib/python3.7/site-packages/ipykernel_launcher.py:5: RuntimeWarning: divide by zero encountered in log2\n",
      "  \"\"\"\n",
      "/kolla/GPU2/anaconda3/envs/blindmi/lib/python3.7/site-packages/ipykernel_launcher.py:5: RuntimeWarning: invalid value encountered in float_scalars\n",
      "  \"\"\"\n"
     ]
    },
    {
     "name": "stdout",
     "output_type": "stream",
     "text": [
      "Train on 5000 samples\n",
      "Epoch 1/10\n",
      "5000/5000 [==============================] - 12s 2ms/sample - loss: 0.0544 - accuracy: 0.9818\n",
      "Epoch 2/10\n",
      "5000/5000 [==============================] - 4s 724us/sample - loss: 0.0463 - accuracy: 0.9882\n",
      "Epoch 3/10\n",
      "5000/5000 [==============================] - 4s 778us/sample - loss: 0.0360 - accuracy: 0.9880\n",
      "Epoch 4/10\n",
      "5000/5000 [==============================] - 4s 735us/sample - loss: 0.0323 - accuracy: 0.9896\n",
      "Epoch 5/10\n",
      "5000/5000 [==============================] - 4s 732us/sample - loss: 0.0313 - accuracy: 0.9912\n",
      "Epoch 6/10\n",
      "5000/5000 [==============================] - 4s 728us/sample - loss: 0.0307 - accuracy: 0.9900\n",
      "Epoch 7/10\n",
      "5000/5000 [==============================] - 4s 759us/sample - loss: 0.0375 - accuracy: 0.9896\n",
      "Epoch 8/10\n",
      "5000/5000 [==============================] - 4s 750us/sample - loss: 0.0279 - accuracy: 0.9906\n",
      "Epoch 9/10\n",
      "5000/5000 [==============================] - 4s 716us/sample - loss: 0.0253 - accuracy: 0.9926\n",
      "Epoch 10/10\n",
      "5000/5000 [==============================] - 4s 717us/sample - loss: 0.0278 - accuracy: 0.9920\n"
     ]
    },
    {
     "name": "stderr",
     "output_type": "stream",
     "text": [
      "/kolla/GPU2/anaconda3/envs/blindmi/lib/python3.7/site-packages/ipykernel_launcher.py:5: RuntimeWarning: divide by zero encountered in log2\n",
      "  \"\"\"\n",
      "/kolla/GPU2/anaconda3/envs/blindmi/lib/python3.7/site-packages/ipykernel_launcher.py:5: RuntimeWarning: invalid value encountered in float_scalars\n",
      "  \"\"\"\n"
     ]
    },
    {
     "name": "stdout",
     "output_type": "stream",
     "text": [
      "Train on 5000 samples\n",
      "Epoch 1/10\n",
      "5000/5000 [==============================] - 13s 3ms/sample - loss: 0.0406 - accuracy: 0.9862\n",
      "Epoch 2/10\n",
      "5000/5000 [==============================] - 4s 718us/sample - loss: 0.0299 - accuracy: 0.9910\n",
      "Epoch 3/10\n",
      "5000/5000 [==============================] - 4s 730us/sample - loss: 0.0222 - accuracy: 0.9938\n",
      "Epoch 4/10\n",
      "5000/5000 [==============================] - 4s 728us/sample - loss: 0.0261 - accuracy: 0.9922\n",
      "Epoch 5/10\n",
      "5000/5000 [==============================] - 4s 758us/sample - loss: 0.0206 - accuracy: 0.9940\n",
      "Epoch 6/10\n",
      "5000/5000 [==============================] - 4s 727us/sample - loss: 0.0474 - accuracy: 0.9894\n",
      "Epoch 7/10\n",
      "5000/5000 [==============================] - 4s 770us/sample - loss: 0.0312 - accuracy: 0.9902\n",
      "Epoch 8/10\n",
      "5000/5000 [==============================] - 4s 766us/sample - loss: 0.0276 - accuracy: 0.9916\n",
      "Epoch 9/10\n",
      "5000/5000 [==============================] - 4s 755us/sample - loss: 0.0279 - accuracy: 0.9914\n",
      "Epoch 10/10\n",
      "5000/5000 [==============================] - 3s 688us/sample - loss: 0.0229 - accuracy: 0.9938\n"
     ]
    },
    {
     "name": "stderr",
     "output_type": "stream",
     "text": [
      "/kolla/GPU2/anaconda3/envs/blindmi/lib/python3.7/site-packages/ipykernel_launcher.py:5: RuntimeWarning: divide by zero encountered in log2\n",
      "  \"\"\"\n",
      "/kolla/GPU2/anaconda3/envs/blindmi/lib/python3.7/site-packages/ipykernel_launcher.py:5: RuntimeWarning: invalid value encountered in float_scalars\n",
      "  \"\"\"\n"
     ]
    }
   ],
   "source": [
    "entropys = [0, 0, 0, 0, 0]\n",
    "out = []\n",
    "entropyaaa = []\n",
    "for i in range(5): \n",
    "    i = i % 5   \n",
    "    x_train, y_train = x[i:i+5000], y[i:i+5000]\n",
    "    model.compile(optimizer=tf.keras.optimizers.RMSprop(learning_rate=0.0001, decay=1e-6),\n",
    "                loss=tf.keras.losses.categorical_crossentropy,\n",
    "                metrics = [\"accuracy\"])\n",
    "\n",
    "    model.fit(x_train, y_train,\n",
    "                epochs=10,\n",
    "                batch_size=64,\n",
    "                shuffle=True,\n",
    "                verbose=1)\n",
    "\n",
    "    for j in range(5000):\n",
    "        x1 = x[j].reshape(1, 32, 32, 3)\n",
    "        out = model.predict(x1)\n",
    "        entropys[i] += entropy(out)\n",
    "    entropyaaa.append(entropys)"
   ]
  },
  {
   "cell_type": "markdown",
   "metadata": {},
   "source": [
    "net = get_Resnet50(x[0].shape, num_classes=10)\n",
    "for i in range(5): \n",
    "    i = i % 5 \n",
    "    i += 25000  \n",
    "    x_train, y_train = x[i:i+5000], y[i:i+5000]\n",
    "    net.compile(optimizer=tf.keras.optimizers.RMSprop(learning_rate=0.0001, decay=1e-6),\n",
    "                loss=tf.keras.losses.categorical_crossentropy,\n",
    "                metrics = [\"accuracy\"])\n",
    "\n",
    "    net.fit(x_train, y_train,\n",
    "                epochs=10,\n",
    "                batch_size=64,\n",
    "                shuffle=True,\n",
    "                verbose=1)"
   ]
  },
  {
   "cell_type": "code",
   "execution_count": 8,
   "metadata": {},
   "outputs": [
    {
     "data": {
      "text/plain": [
       "array([[1.6824601e-13, 4.6230255e-12, 7.1101756e-11, 6.5110444e-13,\n",
       "        1.4588138e-09, 3.3469640e-11, 1.0000000e+00, 5.2383086e-14,\n",
       "        1.5554744e-14, 2.4789190e-13]], dtype=float32)"
      ]
     },
     "execution_count": 8,
     "metadata": {},
     "output_type": "execute_result"
    }
   ],
   "source": [
    "out"
   ]
  },
  {
   "cell_type": "code",
   "execution_count": 9,
   "metadata": {},
   "outputs": [
    {
     "data": {
      "text/plain": [
       "[1477.1250301718876, 200.5574101187213, nan, nan, nan]"
      ]
     },
     "execution_count": 9,
     "metadata": {},
     "output_type": "execute_result"
    }
   ],
   "source": [
    "entropys"
   ]
  },
  {
   "cell_type": "code",
   "execution_count": 10,
   "metadata": {},
   "outputs": [
    {
     "name": "stdout",
     "output_type": "stream",
     "text": [
      "The 0st entopys is: 1477.1250301718876\n",
      "The 1st entopys is: 200.5574101187213\n",
      "The 2st entopys is: nan\n",
      "The 3st entopys is: nan\n",
      "The 4st entopys is: nan\n"
     ]
    }
   ],
   "source": [
    "for i in range(len(entropys)):\n",
    "    print(\"The {}st entopys is: {}\".format(i, entropys[i]))"
   ]
  },
  {
   "cell_type": "code",
   "execution_count": 11,
   "metadata": {},
   "outputs": [
    {
     "name": "stdout",
     "output_type": "stream",
     "text": [
      "(50000, 10) (60000, 1)\n"
     ]
    },
    {
     "name": "stderr",
     "output_type": "stream",
     "text": [
      "/kolla/GPU2/anaconda3/envs/blindmi/lib/python3.7/site-packages/ipykernel_launcher.py:21: DataConversionWarning: A column-vector y was passed when a 1d array was expected. Please change the shape of y to (n_samples,), for example using ravel().\n"
     ]
    },
    {
     "name": "stdout",
     "output_type": "stream",
     "text": [
      "              precision    recall  f1-score   support\n",
      "\n",
      "         0.0       0.33      1.00      0.50      5000\n",
      "         1.0       0.00      0.00      0.00     10000\n",
      "\n",
      "    accuracy                           0.33     15000\n",
      "   macro avg       0.17      0.50      0.25     15000\n",
      "weighted avg       0.11      0.33      0.17     15000\n",
      "\n"
     ]
    },
    {
     "name": "stderr",
     "output_type": "stream",
     "text": [
      "/kolla/GPU2/anaconda3/envs/blindmi/lib/python3.7/site-packages/sklearn/metrics/_classification.py:1318: UndefinedMetricWarning: Precision and F-score are ill-defined and being set to 0.0 in labels with no predicted samples. Use `zero_division` parameter to control this behavior.\n",
      "  _warn_prf(average, modifier, msg_start, len(result))\n",
      "/kolla/GPU2/anaconda3/envs/blindmi/lib/python3.7/site-packages/sklearn/metrics/_classification.py:1318: UndefinedMetricWarning: Precision and F-score are ill-defined and being set to 0.0 in labels with no predicted samples. Use `zero_division` parameter to control this behavior.\n",
      "  _warn_prf(average, modifier, msg_start, len(result))\n",
      "/kolla/GPU2/anaconda3/envs/blindmi/lib/python3.7/site-packages/sklearn/metrics/_classification.py:1318: UndefinedMetricWarning: Precision and F-score are ill-defined and being set to 0.0 in labels with no predicted samples. Use `zero_division` parameter to control this behavior.\n",
      "  _warn_prf(average, modifier, msg_start, len(result))\n"
     ]
    }
   ],
   "source": [
    "# Training a Attack model\n",
    "from sklearn.ensemble import RandomForestClassifier\n",
    "from sklearn.metrics import classification_report\n",
    "\n",
    "attack = RandomForestClassifier(n_estimators=50)\n",
    "x_train , y_train = model.predict(x), np.zeros(shape=(60000, 1))\n",
    "for i in range(5000, 60000):\n",
    "    y_train[i] = 1\n",
    "# print(y_train)\n",
    "print(x_train.shape, y_train.shape)\n",
    "\"\"\"x_t = np.vstack((x_train[:2500], x_train[5000: 7500]))\n",
    "x_t = np.vstack((x_t, x_train[10000: 12500]))\n",
    "x_t = np.vstack((x_t, x_train[15000: 17500]))\n",
    "x_t = np.vstack((x_t, x_train[20000: 22500]))\n",
    "x_t = np.vstack((x_t, x_train[25000: 27500]))\n",
    "y_t = np.vstack((y_train[:2500], y_train[5000: 7500]))\n",
    "y_t = np.vstack((y_t, y_train[10000: 12500]))\n",
    "y_t = np.vstack((y_t, y_train[15000: 17500]))\n",
    "y_t = np.vstack((y_t, y_train[20000: 22500]))\n",
    "y_t = np.vstack((y_t, y_train[25000: 27500]))\"\"\"\n",
    "attack.fit(x_train[2500:5000], y_train[2500:5000])\n",
    "y_pred = attack.predict(model.predict(x[:5000])).reshape((5000, 1))\n",
    "y_pred2 = attack.predict(model.predict(x_test)).reshape((10000, 1))\n",
    "y_pred = np.vstack((y_pred, y_pred2))\n",
    "print(classification_report(y_true=y_train[0:15000], y_pred=y_pred))"
   ]
  },
  {
   "cell_type": "code",
   "execution_count": 12,
   "metadata": {},
   "outputs": [
    {
     "ename": "",
     "evalue": "",
     "output_type": "error",
     "traceback": [
      "\u001b[1;31mCanceled future for execute_request message before replies were done"
     ]
    },
    {
     "ename": "",
     "evalue": "",
     "output_type": "error",
     "traceback": [
      "\u001b[1;31mThe Kernel crashed while executing code in the the current cell or a previous cell. Please review the code in the cell(s) to identify a possible cause of the failure. Click <a href='https://aka.ms/vscodeJupyterKernelCrash'>here</a> for more info. View Jupyter <a href='command:jupyter.viewOutput'>log</a> for further details."
     ]
    }
   ],
   "source": [
    "from sklearn.cluster import KMeans\n",
    "\n",
    "result = []\n",
    "for k in range(2, 10):\n",
    "    kmodel = KMeans(n_clusters=k).fit(x_train[27500:32500])\n",
    "    y_pred =kmodel.predict(model.predict(x)).reshape((50000, 1))\n",
    "    y_pred2 = kmodel.predict(model.predict(x_test)).reshape((10000, 1))\n",
    "    y_pred = np.vstack((y_pred, y_pred2))\n",
    "    print(classification_report(y_true=y_train[0:60000], y_pred=y_pred))"
   ]
  }
 ],
 "metadata": {
  "interpreter": {
   "hash": "bab73f7cffb7c168879aeec02a2b7fdf57bcfd7eff850f9c09c0ed9d1ce831d2"
  },
  "kernelspec": {
   "display_name": "Python 3.7.11 ('blindmi': conda)",
   "language": "python",
   "name": "python3"
  },
  "language_info": {
   "codemirror_mode": {
    "name": "ipython",
    "version": 3
   },
   "file_extension": ".py",
   "mimetype": "text/x-python",
   "name": "python",
   "nbconvert_exporter": "python",
   "pygments_lexer": "ipython3",
   "version": "3.7.11"
  },
  "orig_nbformat": 4
 },
 "nbformat": 4,
 "nbformat_minor": 2
}
