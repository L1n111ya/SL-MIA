{
 "cells": [
  {
   "cell_type": "code",
   "execution_count": 1,
   "metadata": {},
   "outputs": [
    {
     "name": "stderr",
     "output_type": "stream",
     "text": [
      "2022-05-08 23:28:25.423593: W tensorflow/stream_executor/platform/default/dso_loader.cc:55] Could not load dynamic library 'libnvinfer.so.6'; dlerror: libnvinfer.so.6: cannot open shared object file: No such file or directory; LD_LIBRARY_PATH: /usr/local/cuda-10.2/lib64/usr/local/cuda-10.2/lib64:/usr/local/cuda/lib64:/usr/local/cuda/extras/CUPTI/lib64\n",
      "2022-05-08 23:28:25.423675: W tensorflow/stream_executor/platform/default/dso_loader.cc:55] Could not load dynamic library 'libnvinfer_plugin.so.6'; dlerror: libnvinfer_plugin.so.6: cannot open shared object file: No such file or directory; LD_LIBRARY_PATH: /usr/local/cuda-10.2/lib64/usr/local/cuda-10.2/lib64:/usr/local/cuda/lib64:/usr/local/cuda/extras/CUPTI/lib64\n",
      "2022-05-08 23:28:25.423684: W tensorflow/compiler/tf2tensorrt/utils/py_utils.cc:30] Cannot dlopen some TensorRT libraries. If you would like to use Nvidia GPU with TensorRT, please make sure the missing libraries mentioned above are installed properly.\n"
     ]
    }
   ],
   "source": [
    "import numpy as np\n",
    "import tensorflow as tf\n",
    "from tensorflow.keras.layers import GlobalAveragePooling2D, Dense, Activation, Conv2D, MaxPooling2D, Flatten\n",
    "from tensorflow.keras.applications import ResNet50V2, ResNet101V2, DenseNet121, VGG16, VGG19"
   ]
  },
  {
   "cell_type": "code",
   "execution_count": 2,
   "metadata": {},
   "outputs": [],
   "source": [
    "def load_CIFAR10(num_class):\n",
    "    \"\"\"\n",
    "    Load CIFAR10 dataset and data preprocessing.\n",
    "    :param data_dir: Path where to find the data file.\n",
    "    :return: Tuple of numpy arrays: (x_train, y_train), (x_test, y_test).\n",
    "    \"\"\"\n",
    "    # Initialize Data\n",
    "    (x_train, y_train), (x_test, y_test) = tf.keras.datasets.cifar100.load_data()\n",
    "\n",
    "    x_train = x_train / 255.0\n",
    "    x_test = x_test / 255.0\n",
    "    \n",
    "    y_train = tf.keras.utils.to_categorical(y_train, num_class)\n",
    "    y_test = tf.keras.utils.to_categorical(y_test, num_class)\n",
    "    \n",
    "    return (x_train, y_train), (x_test, y_test)\n",
    "\n",
    "(x, y), (x_test, y_test) = load_CIFAR10(100)\n",
    "\n",
    "def clipDataTopX(dataToClip, top=3):\n",
    "\tres = [ sorted(s, reverse=True)[0:top] for s in dataToClip ]\n",
    "\treturn np.array(res)"
   ]
  },
  {
   "cell_type": "code",
   "execution_count": 3,
   "metadata": {},
   "outputs": [
    {
     "data": {
      "text/plain": [
       "(32, 32, 3)"
      ]
     },
     "execution_count": 3,
     "metadata": {},
     "output_type": "execute_result"
    }
   ],
   "source": [
    "x[0].shape"
   ]
  },
  {
   "cell_type": "code",
   "execution_count": 6,
   "metadata": {},
   "outputs": [
    {
     "name": "stdout",
     "output_type": "stream",
     "text": [
      "Model: \"sequential_3\"\n",
      "_________________________________________________________________\n",
      "Layer (type)                 Output Shape              Param #   \n",
      "=================================================================\n",
      "resnet50v2 (Model)           (None, 1, 1, 2048)        23564800  \n",
      "_________________________________________________________________\n",
      "global_average_pooling2d_3 ( (None, 2048)              0         \n",
      "_________________________________________________________________\n",
      "dense_3 (Dense)              (None, 100)               204900    \n",
      "_________________________________________________________________\n",
      "activation_3 (Activation)    (None, 100)               0         \n",
      "=================================================================\n",
      "Total params: 23,769,700\n",
      "Trainable params: 23,724,260\n",
      "Non-trainable params: 45,440\n",
      "_________________________________________________________________\n"
     ]
    }
   ],
   "source": [
    "def get_Resnet50(input_shape=x[0].shape, num_classes=100):\n",
    "    \"\"\"Define and return the ResNet50V2 model.\n",
    "    Args:\n",
    "        input_shape: a tensor defined the data shape.\n",
    "        num_classes: the number of classes.\n",
    "    Returns: \n",
    "        a keras model object named ResNet50V2.\n",
    "    \"\"\"\n",
    "    model = tf.keras.Sequential([\n",
    "        ResNet50V2(include_top=False,\n",
    "                   weights='imagenet',\n",
    "                   input_shape=input_shape),\n",
    "        GlobalAveragePooling2D(),\n",
    "        Dense(num_classes),\n",
    "        Activation('softmax')\n",
    "    ])\n",
    "    model.summary()\n",
    "    \n",
    "    return model\n",
    "\n",
    "model = get_Resnet50(x[0].shape, num_classes=100)"
   ]
  },
  {
   "cell_type": "code",
   "execution_count": 9,
   "metadata": {},
   "outputs": [
    {
     "name": "stdout",
     "output_type": "stream",
     "text": [
      "Model: \"sequential_9\"\n",
      "_________________________________________________________________\n",
      "Layer (type)                 Output Shape              Param #   \n",
      "=================================================================\n",
      "resnet50v2 (Model)           (None, 1, 1, 2048)        23564800  \n",
      "_________________________________________________________________\n",
      "global_average_pooling2d_9 ( (None, 2048)              0         \n",
      "_________________________________________________________________\n",
      "dense_9 (Dense)              (None, 100)               204900    \n",
      "_________________________________________________________________\n",
      "activation_9 (Activation)    (None, 100)               0         \n",
      "=================================================================\n",
      "Total params: 23,769,700\n",
      "Trainable params: 23,724,260\n",
      "Non-trainable params: 45,440\n",
      "_________________________________________________________________\n",
      "Model: \"sequential_10\"\n",
      "_________________________________________________________________\n",
      "Layer (type)                 Output Shape              Param #   \n",
      "=================================================================\n",
      "resnet50v2 (Model)           (None, 1, 1, 2048)        23564800  \n",
      "_________________________________________________________________\n",
      "global_average_pooling2d_10  (None, 2048)              0         \n",
      "_________________________________________________________________\n",
      "dense_10 (Dense)             (None, 100)               204900    \n",
      "_________________________________________________________________\n",
      "activation_10 (Activation)   (None, 100)               0         \n",
      "=================================================================\n",
      "Total params: 23,769,700\n",
      "Trainable params: 23,724,260\n",
      "Non-trainable params: 45,440\n",
      "_________________________________________________________________\n",
      "Train on 10000 samples\n",
      "Epoch 1/10\n",
      "10000/10000 [==============================] - 17s 2ms/sample - loss: 4.6437 - accuracy: 0.0226\n",
      "Epoch 2/10\n",
      "10000/10000 [==============================] - 8s 752us/sample - loss: 4.2242 - accuracy: 0.0855\n",
      "Epoch 3/10\n",
      "10000/10000 [==============================] - 7s 691us/sample - loss: 3.7194 - accuracy: 0.1735\n",
      "Epoch 4/10\n",
      "10000/10000 [==============================] - 7s 745us/sample - loss: 3.1928 - accuracy: 0.2616\n",
      "Epoch 5/10\n",
      "10000/10000 [==============================] - 7s 722us/sample - loss: 2.6734 - accuracy: 0.3599\n",
      "Epoch 6/10\n",
      "10000/10000 [==============================] - 7s 715us/sample - loss: 2.2055 - accuracy: 0.4512\n",
      "Epoch 7/10\n",
      "10000/10000 [==============================] - 7s 734us/sample - loss: 1.7642 - accuracy: 0.5523\n",
      "Epoch 8/10\n",
      "10000/10000 [==============================] - 7s 722us/sample - loss: 1.3619 - accuracy: 0.6539\n",
      "Epoch 9/10\n",
      "10000/10000 [==============================] - 8s 751us/sample - loss: 1.0387 - accuracy: 0.7324\n",
      "Epoch 10/10\n",
      "10000/10000 [==============================] - 7s 708us/sample - loss: 0.7714 - accuracy: 0.8063\n"
     ]
    },
    {
     "name": "stderr",
     "output_type": "stream",
     "text": [
      "/kolla/GPU2/anaconda3/envs/blindmi/lib/python3.7/site-packages/ipykernel_launcher.py:15: VisibleDeprecationWarning: Creating an ndarray from ragged nested sequences (which is a list-or-tuple of lists-or-tuples-or ndarrays with different lengths or shapes) is deprecated. If you meant to do this, you must specify 'dtype=object' when creating the ndarray\n",
      "  from ipykernel import kernelapp as app\n",
      "/kolla/GPU2/anaconda3/envs/blindmi/lib/python3.7/site-packages/ipykernel_launcher.py:16: VisibleDeprecationWarning: Creating an ndarray from ragged nested sequences (which is a list-or-tuple of lists-or-tuples-or ndarrays with different lengths or shapes) is deprecated. If you meant to do this, you must specify 'dtype=object' when creating the ndarray\n",
      "  \n"
     ]
    },
    {
     "name": "stdout",
     "output_type": "stream",
     "text": [
      "Model: \"sequential_11\"\n",
      "_________________________________________________________________\n",
      "Layer (type)                 Output Shape              Param #   \n",
      "=================================================================\n",
      "resnet50v2 (Model)           (None, 1, 1, 2048)        23564800  \n",
      "_________________________________________________________________\n",
      "global_average_pooling2d_11  (None, 2048)              0         \n",
      "_________________________________________________________________\n",
      "dense_11 (Dense)             (None, 100)               204900    \n",
      "_________________________________________________________________\n",
      "activation_11 (Activation)   (None, 100)               0         \n",
      "=================================================================\n",
      "Total params: 23,769,700\n",
      "Trainable params: 23,724,260\n",
      "Non-trainable params: 45,440\n",
      "_________________________________________________________________\n",
      "Train on 10000 samples\n",
      "Epoch 1/10\n",
      "10000/10000 [==============================] - 16s 2ms/sample - loss: 4.6436 - accuracy: 0.0237\n",
      "Epoch 2/10\n",
      "10000/10000 [==============================] - 7s 742us/sample - loss: 4.3070 - accuracy: 0.0814\n",
      "Epoch 3/10\n",
      "10000/10000 [==============================] - 7s 746us/sample - loss: 3.8345 - accuracy: 0.1542\n",
      "Epoch 4/10\n",
      "10000/10000 [==============================] - 7s 728us/sample - loss: 3.3145 - accuracy: 0.2417\n",
      "Epoch 5/10\n",
      "10000/10000 [==============================] - 7s 749us/sample - loss: 2.7537 - accuracy: 0.3413\n",
      "Epoch 6/10\n",
      "10000/10000 [==============================] - 7s 736us/sample - loss: 2.2682 - accuracy: 0.4378\n",
      "Epoch 7/10\n",
      "10000/10000 [==============================] - 7s 737us/sample - loss: 1.8288 - accuracy: 0.5306\n",
      "Epoch 8/10\n",
      "10000/10000 [==============================] - 7s 739us/sample - loss: 1.4446 - accuracy: 0.6227\n",
      "Epoch 9/10\n",
      "10000/10000 [==============================] - 8s 769us/sample - loss: 1.1108 - accuracy: 0.7164\n",
      "Epoch 10/10\n",
      "10000/10000 [==============================] - 7s 713us/sample - loss: 0.8488 - accuracy: 0.7770\n"
     ]
    },
    {
     "name": "stderr",
     "output_type": "stream",
     "text": [
      "/kolla/GPU2/anaconda3/envs/blindmi/lib/python3.7/site-packages/ipykernel_launcher.py:15: VisibleDeprecationWarning: Creating an ndarray from ragged nested sequences (which is a list-or-tuple of lists-or-tuples-or ndarrays with different lengths or shapes) is deprecated. If you meant to do this, you must specify 'dtype=object' when creating the ndarray\n",
      "  from ipykernel import kernelapp as app\n",
      "/kolla/GPU2/anaconda3/envs/blindmi/lib/python3.7/site-packages/ipykernel_launcher.py:16: VisibleDeprecationWarning: Creating an ndarray from ragged nested sequences (which is a list-or-tuple of lists-or-tuples-or ndarrays with different lengths or shapes) is deprecated. If you meant to do this, you must specify 'dtype=object' when creating the ndarray\n",
      "  \n"
     ]
    },
    {
     "name": "stdout",
     "output_type": "stream",
     "text": [
      "Model: \"sequential_12\"\n",
      "_________________________________________________________________\n",
      "Layer (type)                 Output Shape              Param #   \n",
      "=================================================================\n",
      "resnet50v2 (Model)           (None, 1, 1, 2048)        23564800  \n",
      "_________________________________________________________________\n",
      "global_average_pooling2d_12  (None, 2048)              0         \n",
      "_________________________________________________________________\n",
      "dense_12 (Dense)             (None, 100)               204900    \n",
      "_________________________________________________________________\n",
      "activation_12 (Activation)   (None, 100)               0         \n",
      "=================================================================\n",
      "Total params: 23,769,700\n",
      "Trainable params: 23,724,260\n",
      "Non-trainable params: 45,440\n",
      "_________________________________________________________________\n",
      "Train on 10000 samples\n",
      "Epoch 1/10\n",
      "10000/10000 [==============================] - 15s 2ms/sample - loss: 4.6304 - accuracy: 0.0266\n",
      "Epoch 2/10\n",
      "10000/10000 [==============================] - 8s 762us/sample - loss: 4.2317 - accuracy: 0.0888\n",
      "Epoch 3/10\n",
      "10000/10000 [==============================] - 7s 747us/sample - loss: 3.8047 - accuracy: 0.1628\n",
      "Epoch 4/10\n",
      "10000/10000 [==============================] - 8s 754us/sample - loss: 3.3288 - accuracy: 0.2370\n",
      "Epoch 5/10\n",
      "10000/10000 [==============================] - 7s 716us/sample - loss: 2.8423 - accuracy: 0.3294\n",
      "Epoch 6/10\n",
      "10000/10000 [==============================] - 8s 756us/sample - loss: 2.3942 - accuracy: 0.4178\n",
      "Epoch 7/10\n",
      "10000/10000 [==============================] - 7s 711us/sample - loss: 1.9407 - accuracy: 0.5173\n",
      "Epoch 8/10\n",
      "10000/10000 [==============================] - 7s 732us/sample - loss: 1.5682 - accuracy: 0.6048\n",
      "Epoch 9/10\n",
      "10000/10000 [==============================] - 7s 707us/sample - loss: 1.2384 - accuracy: 0.6848\n",
      "Epoch 10/10\n",
      "10000/10000 [==============================] - 8s 751us/sample - loss: 0.9516 - accuracy: 0.7527\n"
     ]
    },
    {
     "name": "stderr",
     "output_type": "stream",
     "text": [
      "/kolla/GPU2/anaconda3/envs/blindmi/lib/python3.7/site-packages/ipykernel_launcher.py:15: VisibleDeprecationWarning: Creating an ndarray from ragged nested sequences (which is a list-or-tuple of lists-or-tuples-or ndarrays with different lengths or shapes) is deprecated. If you meant to do this, you must specify 'dtype=object' when creating the ndarray\n",
      "  from ipykernel import kernelapp as app\n",
      "/kolla/GPU2/anaconda3/envs/blindmi/lib/python3.7/site-packages/ipykernel_launcher.py:16: VisibleDeprecationWarning: Creating an ndarray from ragged nested sequences (which is a list-or-tuple of lists-or-tuples-or ndarrays with different lengths or shapes) is deprecated. If you meant to do this, you must specify 'dtype=object' when creating the ndarray\n",
      "  \n"
     ]
    },
    {
     "name": "stdout",
     "output_type": "stream",
     "text": [
      "Model: \"sequential_13\"\n",
      "_________________________________________________________________\n",
      "Layer (type)                 Output Shape              Param #   \n",
      "=================================================================\n",
      "resnet50v2 (Model)           (None, 1, 1, 2048)        23564800  \n",
      "_________________________________________________________________\n",
      "global_average_pooling2d_13  (None, 2048)              0         \n",
      "_________________________________________________________________\n",
      "dense_13 (Dense)             (None, 100)               204900    \n",
      "_________________________________________________________________\n",
      "activation_13 (Activation)   (None, 100)               0         \n",
      "=================================================================\n",
      "Total params: 23,769,700\n",
      "Trainable params: 23,724,260\n",
      "Non-trainable params: 45,440\n",
      "_________________________________________________________________\n",
      "Train on 10000 samples\n",
      "Epoch 1/10\n",
      "10000/10000 [==============================] - 17s 2ms/sample - loss: 4.6160 - accuracy: 0.0263\n",
      "Epoch 2/10\n",
      "10000/10000 [==============================] - 7s 730us/sample - loss: 4.2536 - accuracy: 0.0835\n",
      "Epoch 3/10\n",
      "10000/10000 [==============================] - 8s 753us/sample - loss: 3.7645 - accuracy: 0.1636\n",
      "Epoch 4/10\n",
      "10000/10000 [==============================] - 8s 755us/sample - loss: 3.2376 - accuracy: 0.2497\n",
      "Epoch 5/10\n",
      "10000/10000 [==============================] - 8s 753us/sample - loss: 2.7018 - accuracy: 0.3499\n",
      "Epoch 6/10\n",
      "10000/10000 [==============================] - 7s 737us/sample - loss: 2.2382 - accuracy: 0.4455\n",
      "Epoch 7/10\n",
      "10000/10000 [==============================] - 7s 746us/sample - loss: 1.8117 - accuracy: 0.5400\n",
      "Epoch 8/10\n",
      "10000/10000 [==============================] - 7s 739us/sample - loss: 1.4257 - accuracy: 0.6346\n",
      "Epoch 9/10\n",
      "10000/10000 [==============================] - 8s 789us/sample - loss: 1.1162 - accuracy: 0.7159\n",
      "Epoch 10/10\n",
      "10000/10000 [==============================] - 7s 711us/sample - loss: 0.8454 - accuracy: 0.7826\n"
     ]
    },
    {
     "name": "stderr",
     "output_type": "stream",
     "text": [
      "/kolla/GPU2/anaconda3/envs/blindmi/lib/python3.7/site-packages/ipykernel_launcher.py:15: VisibleDeprecationWarning: Creating an ndarray from ragged nested sequences (which is a list-or-tuple of lists-or-tuples-or ndarrays with different lengths or shapes) is deprecated. If you meant to do this, you must specify 'dtype=object' when creating the ndarray\n",
      "  from ipykernel import kernelapp as app\n",
      "/kolla/GPU2/anaconda3/envs/blindmi/lib/python3.7/site-packages/ipykernel_launcher.py:16: VisibleDeprecationWarning: Creating an ndarray from ragged nested sequences (which is a list-or-tuple of lists-or-tuples-or ndarrays with different lengths or shapes) is deprecated. If you meant to do this, you must specify 'dtype=object' when creating the ndarray\n",
      "  \n",
      "/kolla/GPU2/anaconda3/envs/blindmi/lib/python3.7/site-packages/ipykernel_launcher.py:21: VisibleDeprecationWarning: Creating an ndarray from ragged nested sequences (which is a list-or-tuple of lists-or-tuples-or ndarrays with different lengths or shapes) is deprecated. If you meant to do this, you must specify 'dtype=object' when creating the ndarray\n"
     ]
    },
    {
     "name": "stdout",
     "output_type": "stream",
     "text": [
      "Model: \"sequential_14\"\n",
      "_________________________________________________________________\n",
      "Layer (type)                 Output Shape              Param #   \n",
      "=================================================================\n",
      "resnet50v2 (Model)           (None, 1, 1, 2048)        23564800  \n",
      "_________________________________________________________________\n",
      "global_average_pooling2d_14  (None, 2048)              0         \n",
      "_________________________________________________________________\n",
      "dense_14 (Dense)             (None, 100)               204900    \n",
      "_________________________________________________________________\n",
      "activation_14 (Activation)   (None, 100)               0         \n",
      "=================================================================\n",
      "Total params: 23,769,700\n",
      "Trainable params: 23,724,260\n",
      "Non-trainable params: 45,440\n",
      "_________________________________________________________________\n",
      "Train on 10000 samples\n",
      "Epoch 1/10\n",
      "10000/10000 [==============================] - 15s 2ms/sample - loss: 2.6346 - accuracy: 0.3425\n",
      "Epoch 2/10\n",
      "10000/10000 [==============================] - 7s 726us/sample - loss: 1.8520 - accuracy: 0.5128\n",
      "Epoch 3/10\n",
      "10000/10000 [==============================] - 7s 739us/sample - loss: 1.3325 - accuracy: 0.6459\n",
      "Epoch 4/10\n",
      "10000/10000 [==============================] - 8s 755us/sample - loss: 0.9280 - accuracy: 0.7568\n",
      "Epoch 5/10\n",
      "10000/10000 [==============================] - 7s 740us/sample - loss: 0.6309 - accuracy: 0.8347\n",
      "Epoch 6/10\n",
      "10000/10000 [==============================] - 8s 782us/sample - loss: 0.4319 - accuracy: 0.8887\n",
      "Epoch 7/10\n",
      "10000/10000 [==============================] - 8s 750us/sample - loss: 0.3211 - accuracy: 0.9224\n",
      "Epoch 8/10\n",
      "10000/10000 [==============================] - 8s 762us/sample - loss: 0.2274 - accuracy: 0.9420\n",
      "Epoch 9/10\n",
      "10000/10000 [==============================] - 7s 731us/sample - loss: 0.1744 - accuracy: 0.9577\n",
      "Epoch 10/10\n",
      "10000/10000 [==============================] - 7s 733us/sample - loss: 0.1446 - accuracy: 0.9668\n"
     ]
    },
    {
     "name": "stderr",
     "output_type": "stream",
     "text": [
      "/kolla/GPU2/anaconda3/envs/blindmi/lib/python3.7/site-packages/ipykernel_launcher.py:15: VisibleDeprecationWarning: Creating an ndarray from ragged nested sequences (which is a list-or-tuple of lists-or-tuples-or ndarrays with different lengths or shapes) is deprecated. If you meant to do this, you must specify 'dtype=object' when creating the ndarray\n",
      "  from ipykernel import kernelapp as app\n",
      "/kolla/GPU2/anaconda3/envs/blindmi/lib/python3.7/site-packages/ipykernel_launcher.py:16: VisibleDeprecationWarning: Creating an ndarray from ragged nested sequences (which is a list-or-tuple of lists-or-tuples-or ndarrays with different lengths or shapes) is deprecated. If you meant to do this, you must specify 'dtype=object' when creating the ndarray\n",
      "  \n"
     ]
    },
    {
     "name": "stdout",
     "output_type": "stream",
     "text": [
      "Model: \"sequential_15\"\n",
      "_________________________________________________________________\n",
      "Layer (type)                 Output Shape              Param #   \n",
      "=================================================================\n",
      "resnet50v2 (Model)           (None, 1, 1, 2048)        23564800  \n",
      "_________________________________________________________________\n",
      "global_average_pooling2d_15  (None, 2048)              0         \n",
      "_________________________________________________________________\n",
      "dense_15 (Dense)             (None, 100)               204900    \n",
      "_________________________________________________________________\n",
      "activation_15 (Activation)   (None, 100)               0         \n",
      "=================================================================\n",
      "Total params: 23,769,700\n",
      "Trainable params: 23,724,260\n",
      "Non-trainable params: 45,440\n",
      "_________________________________________________________________\n",
      "Train on 10000 samples\n",
      "Epoch 1/10\n",
      "10000/10000 [==============================] - 18s 2ms/sample - loss: 2.6390 - accuracy: 0.3441\n",
      "Epoch 2/10\n",
      "10000/10000 [==============================] - 8s 752us/sample - loss: 1.8317 - accuracy: 0.5138\n",
      "Epoch 3/10\n",
      "10000/10000 [==============================] - 7s 711us/sample - loss: 1.2823 - accuracy: 0.6558\n",
      "Epoch 4/10\n",
      "10000/10000 [==============================] - 8s 763us/sample - loss: 0.8999 - accuracy: 0.7628\n",
      "Epoch 5/10\n",
      "10000/10000 [==============================] - 7s 704us/sample - loss: 0.6269 - accuracy: 0.8379\n",
      "Epoch 6/10\n",
      "10000/10000 [==============================] - 7s 729us/sample - loss: 0.4457 - accuracy: 0.8879\n",
      "Epoch 7/10\n",
      "10000/10000 [==============================] - 7s 722us/sample - loss: 0.3216 - accuracy: 0.9195\n",
      "Epoch 8/10\n",
      "10000/10000 [==============================] - 7s 746us/sample - loss: 0.2210 - accuracy: 0.9473\n",
      "Epoch 9/10\n",
      "10000/10000 [==============================] - 7s 745us/sample - loss: 0.1836 - accuracy: 0.9575\n",
      "Epoch 10/10\n",
      "10000/10000 [==============================] - 8s 754us/sample - loss: 0.1389 - accuracy: 0.9660\n"
     ]
    },
    {
     "name": "stderr",
     "output_type": "stream",
     "text": [
      "/kolla/GPU2/anaconda3/envs/blindmi/lib/python3.7/site-packages/ipykernel_launcher.py:15: VisibleDeprecationWarning: Creating an ndarray from ragged nested sequences (which is a list-or-tuple of lists-or-tuples-or ndarrays with different lengths or shapes) is deprecated. If you meant to do this, you must specify 'dtype=object' when creating the ndarray\n",
      "  from ipykernel import kernelapp as app\n",
      "/kolla/GPU2/anaconda3/envs/blindmi/lib/python3.7/site-packages/ipykernel_launcher.py:16: VisibleDeprecationWarning: Creating an ndarray from ragged nested sequences (which is a list-or-tuple of lists-or-tuples-or ndarrays with different lengths or shapes) is deprecated. If you meant to do this, you must specify 'dtype=object' when creating the ndarray\n",
      "  \n"
     ]
    },
    {
     "name": "stdout",
     "output_type": "stream",
     "text": [
      "Model: \"sequential_16\"\n",
      "_________________________________________________________________\n",
      "Layer (type)                 Output Shape              Param #   \n",
      "=================================================================\n",
      "resnet50v2 (Model)           (None, 1, 1, 2048)        23564800  \n",
      "_________________________________________________________________\n",
      "global_average_pooling2d_16  (None, 2048)              0         \n",
      "_________________________________________________________________\n",
      "dense_16 (Dense)             (None, 100)               204900    \n",
      "_________________________________________________________________\n",
      "activation_16 (Activation)   (None, 100)               0         \n",
      "=================================================================\n",
      "Total params: 23,769,700\n",
      "Trainable params: 23,724,260\n",
      "Non-trainable params: 45,440\n",
      "_________________________________________________________________\n",
      "Train on 10000 samples\n",
      "Epoch 1/10\n",
      "10000/10000 [==============================] - 15s 2ms/sample - loss: 2.6625 - accuracy: 0.3344\n",
      "Epoch 2/10\n",
      "10000/10000 [==============================] - 7s 720us/sample - loss: 1.8922 - accuracy: 0.5063\n",
      "Epoch 3/10\n",
      "10000/10000 [==============================] - 8s 756us/sample - loss: 1.3582 - accuracy: 0.6284\n",
      "Epoch 4/10\n",
      "10000/10000 [==============================] - 7s 731us/sample - loss: 0.9941 - accuracy: 0.7397\n",
      "Epoch 5/10\n",
      "10000/10000 [==============================] - 8s 773us/sample - loss: 0.6611 - accuracy: 0.8272\n",
      "Epoch 6/10\n",
      "10000/10000 [==============================] - 7s 748us/sample - loss: 0.4663 - accuracy: 0.8875\n",
      "Epoch 7/10\n",
      "10000/10000 [==============================] - 8s 790us/sample - loss: 0.3377 - accuracy: 0.9172\n",
      "Epoch 8/10\n",
      "10000/10000 [==============================] - 7s 747us/sample - loss: 0.2380 - accuracy: 0.9421\n",
      "Epoch 9/10\n",
      "10000/10000 [==============================] - 8s 752us/sample - loss: 0.1864 - accuracy: 0.9553\n",
      "Epoch 10/10\n",
      "10000/10000 [==============================] - 7s 729us/sample - loss: 0.1523 - accuracy: 0.9634\n"
     ]
    },
    {
     "name": "stderr",
     "output_type": "stream",
     "text": [
      "/kolla/GPU2/anaconda3/envs/blindmi/lib/python3.7/site-packages/ipykernel_launcher.py:15: VisibleDeprecationWarning: Creating an ndarray from ragged nested sequences (which is a list-or-tuple of lists-or-tuples-or ndarrays with different lengths or shapes) is deprecated. If you meant to do this, you must specify 'dtype=object' when creating the ndarray\n",
      "  from ipykernel import kernelapp as app\n",
      "/kolla/GPU2/anaconda3/envs/blindmi/lib/python3.7/site-packages/ipykernel_launcher.py:16: VisibleDeprecationWarning: Creating an ndarray from ragged nested sequences (which is a list-or-tuple of lists-or-tuples-or ndarrays with different lengths or shapes) is deprecated. If you meant to do this, you must specify 'dtype=object' when creating the ndarray\n",
      "  \n"
     ]
    },
    {
     "name": "stdout",
     "output_type": "stream",
     "text": [
      "Model: \"sequential_17\"\n",
      "_________________________________________________________________\n",
      "Layer (type)                 Output Shape              Param #   \n",
      "=================================================================\n",
      "resnet50v2 (Model)           (None, 1, 1, 2048)        23564800  \n",
      "_________________________________________________________________\n",
      "global_average_pooling2d_17  (None, 2048)              0         \n",
      "_________________________________________________________________\n",
      "dense_17 (Dense)             (None, 100)               204900    \n",
      "_________________________________________________________________\n",
      "activation_17 (Activation)   (None, 100)               0         \n",
      "=================================================================\n",
      "Total params: 23,769,700\n",
      "Trainable params: 23,724,260\n",
      "Non-trainable params: 45,440\n",
      "_________________________________________________________________\n",
      "Train on 10000 samples\n",
      "Epoch 1/10\n",
      "10000/10000 [==============================] - 18s 2ms/sample - loss: 2.6312 - accuracy: 0.3387\n",
      "Epoch 2/10\n",
      "10000/10000 [==============================] - 8s 758us/sample - loss: 1.8698 - accuracy: 0.5082\n",
      "Epoch 3/10\n",
      "10000/10000 [==============================] - 7s 730us/sample - loss: 1.3076 - accuracy: 0.6528\n",
      "Epoch 4/10\n",
      "10000/10000 [==============================] - 8s 755us/sample - loss: 0.9051 - accuracy: 0.7591\n",
      "Epoch 5/10\n",
      "10000/10000 [==============================] - 7s 723us/sample - loss: 0.6259 - accuracy: 0.8375\n",
      "Epoch 6/10\n",
      "10000/10000 [==============================] - 8s 761us/sample - loss: 0.4179 - accuracy: 0.8945\n",
      "Epoch 7/10\n",
      "10000/10000 [==============================] - 7s 738us/sample - loss: 0.2964 - accuracy: 0.9333\n",
      "Epoch 8/10\n",
      "10000/10000 [==============================] - 8s 763us/sample - loss: 0.2138 - accuracy: 0.9503\n",
      "Epoch 9/10\n",
      "10000/10000 [==============================] - 7s 738us/sample - loss: 0.1615 - accuracy: 0.9639\n",
      "Epoch 10/10\n",
      "10000/10000 [==============================] - 7s 749us/sample - loss: 0.1350 - accuracy: 0.9677\n"
     ]
    },
    {
     "name": "stderr",
     "output_type": "stream",
     "text": [
      "/kolla/GPU2/anaconda3/envs/blindmi/lib/python3.7/site-packages/ipykernel_launcher.py:15: VisibleDeprecationWarning: Creating an ndarray from ragged nested sequences (which is a list-or-tuple of lists-or-tuples-or ndarrays with different lengths or shapes) is deprecated. If you meant to do this, you must specify 'dtype=object' when creating the ndarray\n",
      "  from ipykernel import kernelapp as app\n",
      "/kolla/GPU2/anaconda3/envs/blindmi/lib/python3.7/site-packages/ipykernel_launcher.py:16: VisibleDeprecationWarning: Creating an ndarray from ragged nested sequences (which is a list-or-tuple of lists-or-tuples-or ndarrays with different lengths or shapes) is deprecated. If you meant to do this, you must specify 'dtype=object' when creating the ndarray\n",
      "  \n",
      "/kolla/GPU2/anaconda3/envs/blindmi/lib/python3.7/site-packages/ipykernel_launcher.py:21: VisibleDeprecationWarning: Creating an ndarray from ragged nested sequences (which is a list-or-tuple of lists-or-tuples-or ndarrays with different lengths or shapes) is deprecated. If you meant to do this, you must specify 'dtype=object' when creating the ndarray\n"
     ]
    }
   ],
   "source": [
    "initial_model = get_Resnet50()\n",
    "for j in range(2):\n",
    "    deltas = []\n",
    "    for i in range(4):\n",
    "        model = get_Resnet50()\n",
    "        model.set_weights(initial_model.get_weights())\n",
    "        model.compile(loss='categorical_crossentropy',\n",
    "                      optimizer=tf.keras.optimizers.RMSprop(learning_rate=0.0001, decay=1e-6),\n",
    "                      metrics=['accuracy'])\n",
    "        model.fit(x[i*10000: i*10000+10000],\n",
    "                  y[i*10000: i*10000+10000],\n",
    "                  batch_size=64,\n",
    "                  epochs=10,\n",
    "                  verbose=1)\n",
    "        delta = np.array(initial_model.get_weights()) - \\\n",
    "            np.array(model.get_weights())\n",
    "        deltas.append(delta)\n",
    "        if j == 0:\n",
    "            model.save('./model/keras_cifar100_trained_model_' + str(i) + '.h5')\n",
    "    delt_av = (deltas[0] + deltas[1] + deltas[2] + deltas[3]) / 4\n",
    "    new_weights = np.array(initial_model.get_weights()) - delt_av\n",
    "    initial_model.set_weights(new_weights)"
   ]
  },
  {
   "cell_type": "code",
   "execution_count": 15,
   "metadata": {},
   "outputs": [
    {
     "name": "stdout",
     "output_type": "stream",
     "text": [
      "              precision    recall  f1-score   support\n",
      "\n",
      "         0.0       0.75      0.75      0.75     20000\n",
      "         1.0       0.50      0.48      0.49     10000\n",
      "\n",
      "    accuracy                           0.66     30000\n",
      "   macro avg       0.62      0.62      0.62     30000\n",
      "weighted avg       0.66      0.66      0.66     30000\n",
      "\n",
      "0.619825\n"
     ]
    }
   ],
   "source": [
    "from sklearn.ensemble import RandomForestClassifier\n",
    "from sklearn.metrics import classification_report\n",
    "from sklearn.metrics import roc_auc_score\n",
    "\n",
    "x_train = np.vstack((x[30000:40000], x_test))\n",
    "x_train = clipDataTopX(initial_model.predict(x_train), 3)\n",
    "y_train = np.zeros(30000)\n",
    "for i in range(10000):\n",
    "    y_train[i] = 1\n",
    "\n",
    "attack = RandomForestClassifier(n_estimators=50)\n",
    "attack.fit(x_train, y_train[0:20000])\n",
    "xt = initial_model.predict(np.vstack((x[0:20000], x_test)))\n",
    "xt = clipDataTopX(xt, 3)\n",
    "y_pred = attack.predict(xt)\n",
    "print(classification_report(y_true=y_train, y_pred=y_pred))\n",
    "print(roc_auc_score(y_train, y_pred))"
   ]
  },
  {
   "cell_type": "code",
   "execution_count": null,
   "metadata": {},
   "outputs": [
    {
     "data": {
      "text/plain": [
       "(20000, 3)"
      ]
     },
     "execution_count": 29,
     "metadata": {},
     "output_type": "execute_result"
    }
   ],
   "source": [
    "x_train.shape"
   ]
  }
 ],
 "metadata": {
  "interpreter": {
   "hash": "bab73f7cffb7c168879aeec02a2b7fdf57bcfd7eff850f9c09c0ed9d1ce831d2"
  },
  "kernelspec": {
   "display_name": "Python 3.7.11 ('blindmi': conda)",
   "language": "python",
   "name": "python3"
  },
  "language_info": {
   "codemirror_mode": {
    "name": "ipython",
    "version": 3
   },
   "file_extension": ".py",
   "mimetype": "text/x-python",
   "name": "python",
   "nbconvert_exporter": "python",
   "pygments_lexer": "ipython3",
   "version": "3.7.11"
  },
  "orig_nbformat": 4
 },
 "nbformat": 4,
 "nbformat_minor": 2
}
